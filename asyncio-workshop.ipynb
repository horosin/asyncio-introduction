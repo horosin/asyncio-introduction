{
 "cells": [
  {
   "cell_type": "markdown",
   "metadata": {
    "slideshow": {
     "slide_type": "slide"
    }
   },
   "source": [
    "# A short guide to asynchronous programming<br>with asyncio\n",
    "by Karol Horosin"
   ]
  },
  {
   "cell_type": "markdown",
   "metadata": {
    "slideshow": {
     "slide_type": "slide"
    }
   },
   "source": [
    "# You will learn\n",
    "* What is asynchronous programming\n",
    "* asyncio library basics\n",
    "* How to implement a simple async program making http requests and compare it to synchronous version"
   ]
  },
  {
   "cell_type": "markdown",
   "metadata": {
    "slideshow": {
     "slide_type": "slide"
    }
   },
   "source": [
    "# What is asyncio\n",
    "* In current form part of Python standard library since 3.5\n",
    "* Asynchronous loop to execute our asynchronous functions (coroutines) implemented using async and await python keywords\n",
    "* Has shallow learning curve and minimal boilerplate"
   ]
  },
  {
   "cell_type": "markdown",
   "metadata": {
    "slideshow": {
     "slide_type": "subslide"
    }
   },
   "source": [
    "# When to use asyncio\n",
    "\n",
    "* In I/O heavy applications\n",
    "* If you don't want to deal with parallel complexities\n",
    "* Multithreading and multiprocessing is resource heavy - default(!) thread stack size in modern architectures is 2MB! [source](http://man7.org/linux/man-pages/man3/pthread_create.3.html)\n",
    "* Asynchronous is another way to optimize and works well with multiprocessing\n"
   ]
  },
  {
   "cell_type": "markdown",
   "metadata": {
    "slideshow": {
     "slide_type": "slide"
    }
   },
   "source": [
    "# Useful concepts\n",
    "\n",
    "An **event loop** handles the execution of registered tasks. It is responsible for the flow of control.\n",
    "\n",
    "**Coroutines** are functions that give control back to the loop while waiting for some action to happen. A coroutine needs to be scheduled in the loop."
   ]
  },
  {
   "cell_type": "markdown",
   "metadata": {
    "slideshow": {
     "slide_type": "slide"
    }
   },
   "source": [
    "# Execution of synchronous and asynchronous programs\n",
    "![slide](images/01-sync-vs-async.jpg)"
   ]
  },
  {
   "cell_type": "markdown",
   "metadata": {
    "slideshow": {
     "slide_type": "slide"
    }
   },
   "source": [
    "![slide](images/02-loop-1.jpg)"
   ]
  },
  {
   "cell_type": "markdown",
   "metadata": {
    "slideshow": {
     "slide_type": "subslide"
    }
   },
   "source": [
    "![slide](images/03-loop-2.jpg)"
   ]
  },
  {
   "cell_type": "markdown",
   "metadata": {
    "slideshow": {
     "slide_type": "subslide"
    }
   },
   "source": [
    "![slide](images/04-loop-3.jpg)"
   ]
  },
  {
   "cell_type": "markdown",
   "metadata": {
    "slideshow": {
     "slide_type": "slide"
    }
   },
   "source": [
    "# Standard way of executing tasks\n",
    "`time.sleep(1)` emulates synchronous operation taking 1 second"
   ]
  },
  {
   "cell_type": "code",
   "execution_count": 1,
   "metadata": {
    "slideshow": {
     "slide_type": "subslide"
    }
   },
   "outputs": [
    {
     "name": "stdout",
     "output_type": "stream",
     "text": [
      "Running task 1\n",
      "Finished task 1\n",
      "Running task 2\n",
      "Finished task 2\n",
      "Finished in 2.001476287841797s\n"
     ]
    }
   ],
   "source": [
    "import time\n",
    "\n",
    "\n",
    "def task1():\n",
    "    print('Running task 1')\n",
    "    time.sleep(1)\n",
    "    print('Finished task 1')\n",
    "\n",
    "\n",
    "def task2():\n",
    "    print('Running task 2')\n",
    "    time.sleep(1)\n",
    "    print('Finished task 2')\n",
    "\n",
    "\n",
    "if __name__ == \"__main__\":\n",
    "    \n",
    "    start = time.time()\n",
    "    \n",
    "    task1()\n",
    "    task2()\n",
    "    \n",
    "    print(\"Finished in {}s\".format(time.time() - start))"
   ]
  },
  {
   "cell_type": "markdown",
   "metadata": {
    "slideshow": {
     "slide_type": "subslide"
    }
   },
   "source": [
    "# Using asyncio\n",
    "`asyncio.sleep(1)` emulates **asynchronous** operation taking 1 second"
   ]
  },
  {
   "cell_type": "code",
   "execution_count": 5,
   "metadata": {
    "slideshow": {
     "slide_type": "subslide"
    }
   },
   "outputs": [
    {
     "name": "stdout",
     "output_type": "stream",
     "text": [
      "Running task 2\n",
      "Running task 1\n",
      "Finished task 2\n",
      "Finished task 1\n",
      "Finished in 1.00266695022583s\n"
     ]
    }
   ],
   "source": [
    "import time\n",
    "import asyncio\n",
    "\n",
    "\n",
    "async def task1():\n",
    "    print('Running task 1')\n",
    "    await asyncio.sleep(1)\n",
    "    print('Finished task 1')\n",
    "\n",
    "\n",
    "async def task2():\n",
    "    print('Running task 2')\n",
    "    await asyncio.sleep(1)\n",
    "    print('Finished task 2')\n",
    "\n",
    "\n",
    "async def main():\n",
    "    tasks = [task1(), task2()]\n",
    "    results = await asyncio.gather(*tasks)\n",
    "\n",
    "\n",
    "if __name__ == \"__main__\":\n",
    "    start = time.time()\n",
    "\n",
    "    loop = asyncio.get_event_loop()\n",
    "    loop.run_until_complete(main())\n",
    "    \n",
    "    print(\"Finished in {}s\".format(time.time() - start))"
   ]
  },
  {
   "cell_type": "markdown",
   "metadata": {
    "slideshow": {
     "slide_type": "slide"
    }
   },
   "source": [
    "# Typical asynchronous operations\n",
    "\n",
    "* Retrieving an updating contents of a database\n",
    "* Fetching data from web apis\n",
    "* Any network operation\n",
    "* Using other software tools in subprocesses - pipelines!"
   ]
  },
  {
   "cell_type": "markdown",
   "metadata": {
    "slideshow": {
     "slide_type": "slide"
    }
   },
   "source": [
    "# Making code asynchronous\n",
    "\n",
    "1) Convert your functions to asynchronous coroutines\n",
    "  * async in front of function - `async def function()`\n",
    "  * replace synchronous operations with asynchronous equivalents\n",
    "  * await them to give back control to loop\n",
    "\n",
    "2) Create event loop to execute tasks\n",
    "\n",
    "`loop = asyncio.get_event_loop()`\n",
    "\n",
    "3) Run tasks on the loop\n",
    "\n",
    "`loop.run_until_complete(task())`"
   ]
  },
  {
   "cell_type": "markdown",
   "metadata": {
    "slideshow": {
     "slide_type": "slide"
    }
   },
   "source": [
    "# Fetching data from API"
   ]
  },
  {
   "cell_type": "markdown",
   "metadata": {
    "slideshow": {
     "slide_type": "subslide"
    }
   },
   "source": [
    "# Synchronous implementation"
   ]
  },
  {
   "cell_type": "code",
   "execution_count": 3,
   "metadata": {
    "slideshow": {
     "slide_type": "fragment"
    }
   },
   "outputs": [
    {
     "name": "stdout",
     "output_type": "stream",
     "text": [
      "Fetching post 1, Fetched post 1, Fetching post 2, Fetched post 2, Fetching post 3, Fetched post 3, Fetching post 4, Fetched post 4, Fetching post 5, Fetched post 5, Fetching post 6, Fetched post 6, Fetching post 7, Fetched post 7, Fetching post 8, Fetched post 8, Fetching post 9, Fetched post 9, Fetching post 10, Fetched post 10, \n",
      "Finished in 2.856227159500122s\n"
     ]
    }
   ],
   "source": [
    "import urllib.request\n",
    "\n",
    "BASE_URL = 'https://jsonplaceholder.typicode.com/posts/'\n",
    "POSTS = 10\n",
    "\n",
    "def fetch_api_sync(post):\n",
    "    print('Fetching post {}, '.format(post), end='')\n",
    "    response = urllib.request.urlopen(BASE_URL + str(post))\n",
    "    print('Fetched post {}, '.format(\n",
    "        post), end='')\n",
    "\n",
    "\n",
    "if __name__ == \"__main__\":\n",
    "    start = time.time()\n",
    "    for post in range(1, POSTS + 1):\n",
    "        fetch_api_sync(post)\n",
    "    print()    \n",
    "    print(\"Finished in {}s\".format(time.time() - start))"
   ]
  },
  {
   "cell_type": "markdown",
   "metadata": {
    "slideshow": {
     "slide_type": "subslide"
    }
   },
   "source": [
    "# Asynchronous implementation"
   ]
  },
  {
   "cell_type": "code",
   "execution_count": 4,
   "metadata": {
    "slideshow": {
     "slide_type": "fragment"
    }
   },
   "outputs": [
    {
     "name": "stdout",
     "output_type": "stream",
     "text": [
      "Fetching post 7, Fetching post 2, Fetching post 8, Fetching post 3, Fetching post 9, Fetching post 4, Fetching post 10, Fetching post 5, Fetching post 6, Fetching post 1, Fetched post 8, Fetched post 1, Fetched post 10, Fetched post 7, Fetched post 5, Fetched post 2, Fetched post 9, Fetched post 4, Fetched post 6, Fetched post 3, \n",
      "Finished in 0.13844084739685059s\n"
     ]
    }
   ],
   "source": [
    "import asyncio\n",
    "import aiohttp\n",
    "import time\n",
    "\n",
    "\n",
    "BASE_URL = 'https://jsonplaceholder.typicode.com/posts/'\n",
    "POSTS = 10\n",
    "MAX_CONNECTIONS = 10\n",
    "\n",
    "\n",
    "async def fetch_api_async(post, session):\n",
    "    print('Fetching post {}, '.format(post), end='')\n",
    "    response = await session.get(BASE_URL + str(post))   \n",
    "    print('Fetched post {}, '.format(\n",
    "        post), end='')\n",
    "\n",
    "\n",
    "async def main():\n",
    "    \n",
    "    conn = aiohttp.TCPConnector(limit=MAX_CONNECTIONS)\n",
    "    async with aiohttp.ClientSession(connector=conn) as session:\n",
    "        tasks = [fetch_api_async(post, session) for post in range(1, POSTS+1)]\n",
    "        await asyncio.gather(*tasks)\n",
    "\n",
    "\n",
    "if __name__ == \"__main__\":\n",
    "    start = time.time()\n",
    "\n",
    "    loop = asyncio.get_event_loop()\n",
    "    loop.run_until_complete(main())\n",
    "    print()\n",
    "    print(\"Finished in {}s\".format(time.time() - start))"
   ]
  },
  {
   "cell_type": "markdown",
   "metadata": {
    "slideshow": {
     "slide_type": "slide"
    }
   },
   "source": [
    "# Other tips\n",
    "If you have a problem with an event loop, try downgrading tornado (jupyter uses it).\n",
    "`pip3 install tornado==4.5.3`"
   ]
  },
  {
   "cell_type": "markdown",
   "metadata": {
    "slideshow": {
     "slide_type": "slide"
    }
   },
   "source": [
    "## Thanks!"
   ]
  },
  {
   "cell_type": "markdown",
   "metadata": {
    "slideshow": {
     "slide_type": "slide"
    }
   },
   "source": [
    "# Acknowledgements\n",
    "* Thanks to @klaussweiss for investigating default stack size for new threads\n",
    "* Thanks to @nielsdenissen for inspiration for slides visualising how tasks are executed in a loop https://github.com/nielsdenissen/pydata-asyncio"
   ]
  }
 ],
 "metadata": {
  "celltoolbar": "Slideshow",
  "kernelspec": {
   "display_name": "Python 3",
   "language": "python",
   "name": "python3"
  },
  "language_info": {
   "codemirror_mode": {
    "name": "ipython",
    "version": 3
   },
   "file_extension": ".py",
   "mimetype": "text/x-python",
   "name": "python",
   "nbconvert_exporter": "python",
   "pygments_lexer": "ipython3",
   "version": "3.6.5"
  }
 },
 "nbformat": 4,
 "nbformat_minor": 2
}
